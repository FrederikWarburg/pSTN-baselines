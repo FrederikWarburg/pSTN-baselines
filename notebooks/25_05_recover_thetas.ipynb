{
 "cells": [
  {
   "cell_type": "code",
   "execution_count": 1,
   "metadata": {},
   "outputs": [],
   "source": [
    "import numpy as np\n",
    "import matplotlib.pyplot as plt\n",
    "import pickle"
   ]
  },
  {
   "cell_type": "code",
   "execution_count": 14,
   "metadata": {},
   "outputs": [
    {
     "name": "stdout",
     "output_type": "stream",
     "text": [
      "test\t\t     train_epoch_13_mu.p  train_epoch_6\r\n",
      "test_mu.p\t     train_epoch_14\t  train_epoch_6_mu.p\r\n",
      "train_epoch_0\t     train_epoch_14_mu.p  train_epoch_7\r\n",
      "train_epoch_0_mu.p   train_epoch_1_mu.p   train_epoch_7_mu.p\r\n",
      "train_epoch_1\t     train_epoch_2\t  train_epoch_8\r\n",
      "train_epoch_10\t     train_epoch_2_mu.p   train_epoch_8_mu.p\r\n",
      "train_epoch_10_mu.p  train_epoch_3\t  train_epoch_9\r\n",
      "train_epoch_11\t     train_epoch_3_mu.p   train_epoch_9_mu.p\r\n",
      "train_epoch_11_mu.p  train_epoch_4\t  train_epoch_None\r\n",
      "train_epoch_12\t     train_epoch_4_mu.p   train_epoch_None_mu.p\r\n",
      "train_epoch_12_mu.p  train_epoch_5\r\n",
      "train_epoch_13\t     train_epoch_5_mu.p\r\n"
     ]
    }
   ],
   "source": [
    "!ls ../theta_stats/d=mnistxkmnist-m=stn-b=None-n=1-p=2-kl=None-seed=42-sigmaP=0.1-lr=0.1-lrloc=0.01"
   ]
  },
  {
   "cell_type": "code",
   "execution_count": 10,
   "metadata": {},
   "outputs": [],
   "source": [
    "theta_mu = pickle.load(open('../theta_stats/d=mnistxkmnist-m=stn-b=None-n=1-p=2-kl=None-seed=42-sigmaP=0.1-lr=0.1-lrloc=0.01/train_epoch_0_mu.p', 'rb'))"
   ]
  },
  {
   "cell_type": "code",
   "execution_count": 11,
   "metadata": {},
   "outputs": [
    {
     "data": {
      "text/plain": [
       "(234, 256, 2)"
      ]
     },
     "execution_count": 11,
     "metadata": {},
     "output_type": "execute_result"
    }
   ],
   "source": [
    "theta_mu.shape"
   ]
  },
  {
   "cell_type": "code",
   "execution_count": 12,
   "metadata": {},
   "outputs": [],
   "source": [
    "theta_mu = theta_mu.reshape((-1, 2))"
   ]
  },
  {
   "cell_type": "code",
   "execution_count": 13,
   "metadata": {},
   "outputs": [
    {
     "data": {
      "text/plain": [
       "<matplotlib.collections.PathCollection at 0x7f522d3903c8>"
      ]
     },
     "execution_count": 13,
     "metadata": {},
     "output_type": "execute_result"
    },
    {
     "data": {
      "image/png": "[encoded data removed]",
      "text/plain": [
       "<Figure size 432x288 with 1 Axes>"
      ]
     },
     "metadata": {
      "needs_background": "light"
     },
     "output_type": "display_data"
    }
   ],
   "source": [
    "plt.scatter(theta_mu[:, 0], theta_mu[:, 1])"
   ]
  },
  {
   "cell_type": "code",
   "execution_count": null,
   "metadata": {},
   "outputs": [],
   "source": []
  }
 ],
 "metadata": {
  "kernelspec": {
   "display_name": "Python 3",
   "language": "python",
   "name": "python3"
  },
  "language_info": {
   "codemirror_mode": {
    "name": "ipython",
    "version": 3
   },
   "file_extension": ".py",
   "mimetype": "text/x-python",
   "name": "python",
   "nbconvert_exporter": "python",
   "pygments_lexer": "ipython3",
   "version": "3.6.9"
  }
 },
 "nbformat": 4,
 "nbformat_minor": 2
}
