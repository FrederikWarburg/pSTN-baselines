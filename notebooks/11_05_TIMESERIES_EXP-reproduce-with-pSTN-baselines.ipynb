{
 "cells": [
  {
   "cell_type": "code",
   "execution_count": 6,
   "metadata": {},
   "outputs": [
    {
     "name": "stdout",
     "output_type": "stream",
     "text": [
      "The autoreload extension is already loaded. To reload it, use:\n",
      "  %reload_ext autoreload\n"
     ]
    }
   ],
   "source": [
    "import numpy as np\n",
    "import matplotlib.pyplot as plt\n",
    "import os\n",
    "import pickle\n",
    "import pandas as pd\n",
    "%matplotlib inline\n",
    "%load_ext autoreload\n",
    "%autoreload 2\n",
    "import warnings\n",
    "warnings.filterwarnings('ignore')\n",
    "import math\n",
    "plt.rcParams.update({'font.size': 13})\n",
    "from collections import defaultdict"
   ]
  },
  {
   "cell_type": "code",
   "execution_count": 11,
   "metadata": {},
   "outputs": [],
   "source": [
    "datasets = [\"FaceAll\", \"wafer\", \"uWaveGestureLibrary_X\", \"Two_Patterns\", \n",
    "            \"StarLightCurves\", \"PhalangesOutlinesCorrect\", \"FordA\"]\n",
    "priors = [0.1, 0.1, 0.1, 0.6, 0.2, 0.1, 0.1]"
   ]
  },
  {
   "cell_type": "code",
   "execution_count": 12,
   "metadata": {
    "scrolled": true
   },
   "outputs": [
    {
     "name": "stdout",
     "output_type": "stream",
     "text": [
      "'cnn_FaceAll_0.1_fold_0_DA=False_test_accuracy.p'\r\n",
      "'cnn_FaceAll_0.1_fold_0_DA=False_test_loss.p'\r\n",
      "'cnn_FaceAll_0.1_fold_1_DA=False_test_accuracy.p'\r\n",
      "'cnn_FaceAll_0.1_fold_1_DA=False_test_loss.p'\r\n",
      "'cnn_FaceAll_0.1_fold_2_DA=False_test_accuracy.p'\r\n",
      "'cnn_FaceAll_0.1_fold_2_DA=False_test_loss.p'\r\n",
      "'cnn_FaceAll_0.1_fold_3_DA=False_test_accuracy.p'\r\n",
      "'cnn_FaceAll_0.1_fold_3_DA=False_test_loss.p'\r\n",
      "'cnn_FaceAll_0.1_fold_4_DA=False_test_accuracy.p'\r\n",
      "'cnn_FaceAll_0.1_fold_4_DA=False_test_loss.p'\r\n",
      "'cnn_FaceAll_0.1_fold_5_DA=False_test_accuracy.p'\r\n",
      "'cnn_FaceAll_0.1_fold_5_DA=False_test_loss.p'\r\n",
      "'cnn_PhalangesOutlinesCorrect_0.1_fold_0_DA=False_test_accuracy.p'\r\n",
      "'cnn_PhalangesOutlinesCorrect_0.1_fold_0_DA=False_test_loss.p'\r\n",
      "'cnn_PhalangesOutlinesCorrect_0.1_fold_1_DA=False_test_accuracy.p'\r\n",
      "'cnn_PhalangesOutlinesCorrect_0.1_fold_1_DA=False_test_loss.p'\r\n",
      "'cnn_StarLightCurves_0.2_fold_0_DA=False_test_accuracy.p'\r\n",
      "'cnn_StarLightCurves_0.2_fold_0_DA=False_test_loss.p'\r\n",
      "'cnn_StarLightCurves_0.2_fold_1_DA=False_test_accuracy.p'\r\n",
      "'cnn_StarLightCurves_0.2_fold_1_DA=False_test_loss.p'\r\n",
      "'cnn_StarLightCurves_0.2_fold_2_DA=False_test_accuracy.p'\r\n",
      "'cnn_StarLightCurves_0.2_fold_2_DA=False_test_loss.p'\r\n",
      "'cnn_StarLightCurves_0.2_fold_3_DA=False_test_accuracy.p'\r\n",
      "'cnn_StarLightCurves_0.2_fold_3_DA=False_test_loss.p'\r\n",
      "'cnn_StarLightCurves_0.2_fold_4_DA=False_test_accuracy.p'\r\n",
      "'cnn_StarLightCurves_0.2_fold_4_DA=False_test_loss.p'\r\n",
      "'cnn_StarLightCurves_0.2_fold_5_DA=False_test_accuracy.p'\r\n",
      "'cnn_StarLightCurves_0.2_fold_5_DA=False_test_loss.p'\r\n",
      "'cnn_Two_Patterns_0.6_fold_0_DA=False_test_accuracy.p'\r\n",
      "'cnn_Two_Patterns_0.6_fold_0_DA=False_test_loss.p'\r\n",
      "'cnn_Two_Patterns_0.6_fold_1_DA=False_test_accuracy.p'\r\n",
      "'cnn_Two_Patterns_0.6_fold_1_DA=False_test_loss.p'\r\n",
      "'cnn_Two_Patterns_0.6_fold_2_DA=False_test_accuracy.p'\r\n",
      "'cnn_Two_Patterns_0.6_fold_2_DA=False_test_loss.p'\r\n",
      "'cnn_Two_Patterns_0.6_fold_3_DA=False_test_accuracy.p'\r\n",
      "'cnn_Two_Patterns_0.6_fold_3_DA=False_test_loss.p'\r\n",
      "'cnn_Two_Patterns_0.6_fold_4_DA=False_test_accuracy.p'\r\n",
      "'cnn_Two_Patterns_0.6_fold_4_DA=False_test_loss.p'\r\n",
      "'cnn_Two_Patterns_0.6_fold_5_DA=False_test_accuracy.p'\r\n",
      "'cnn_Two_Patterns_0.6_fold_5_DA=False_test_loss.p'\r\n",
      "'cnn_uWaveGestureLibrary_X_0.1_fold_0_DA=False_test_accuracy.p'\r\n",
      "'cnn_uWaveGestureLibrary_X_0.1_fold_0_DA=False_test_loss.p'\r\n",
      "'cnn_uWaveGestureLibrary_X_0.1_fold_1_DA=False_test_accuracy.p'\r\n",
      "'cnn_uWaveGestureLibrary_X_0.1_fold_1_DA=False_test_loss.p'\r\n",
      "'cnn_uWaveGestureLibrary_X_0.1_fold_2_DA=False_test_accuracy.p'\r\n",
      "'cnn_uWaveGestureLibrary_X_0.1_fold_2_DA=False_test_loss.p'\r\n",
      "'cnn_uWaveGestureLibrary_X_0.1_fold_3_DA=False_test_accuracy.p'\r\n",
      "'cnn_uWaveGestureLibrary_X_0.1_fold_3_DA=False_test_loss.p'\r\n",
      "'cnn_uWaveGestureLibrary_X_0.1_fold_4_DA=False_test_accuracy.p'\r\n",
      "'cnn_uWaveGestureLibrary_X_0.1_fold_4_DA=False_test_loss.p'\r\n",
      "'cnn_uWaveGestureLibrary_X_0.1_fold_5_DA=False_test_accuracy.p'\r\n",
      "'cnn_uWaveGestureLibrary_X_0.1_fold_5_DA=False_test_loss.p'\r\n",
      "'cnn_wafer_0.1_fold_0_DA=False_test_accuracy.p'\r\n",
      "'cnn_wafer_0.1_fold_0_DA=False_test_loss.p'\r\n",
      "'cnn_wafer_0.1_fold_1_DA=False_test_accuracy.p'\r\n",
      "'cnn_wafer_0.1_fold_1_DA=False_test_loss.p'\r\n",
      "'cnn_wafer_0.1_fold_2_DA=False_test_accuracy.p'\r\n",
      "'cnn_wafer_0.1_fold_2_DA=False_test_loss.p'\r\n",
      "'cnn_wafer_0.1_fold_3_DA=False_test_accuracy.p'\r\n",
      "'cnn_wafer_0.1_fold_3_DA=False_test_loss.p'\r\n",
      "'cnn_wafer_0.1_fold_4_DA=False_test_accuracy.p'\r\n",
      "'cnn_wafer_0.1_fold_4_DA=False_test_loss.p'\r\n",
      "'cnn_wafer_0.1_fold_5_DA=False_test_accuracy.p'\r\n",
      "'cnn_wafer_0.1_fold_5_DA=False_test_loss.p'\r\n",
      "'stn_FaceAll_0.1_fold_0_DA=False_test_accuracy.p'\r\n",
      "'stn_FaceAll_0.1_fold_0_DA=False_test_loss.p'\r\n",
      "'stn_FaceAll_0.1_fold_1_DA=False_test_accuracy.p'\r\n",
      "'stn_FaceAll_0.1_fold_1_DA=False_test_loss.p'\r\n",
      "'stn_FaceAll_0.1_fold_2_DA=False_test_accuracy.p'\r\n",
      "'stn_FaceAll_0.1_fold_2_DA=False_test_loss.p'\r\n",
      "'stn_FaceAll_0.1_fold_3_DA=False_test_accuracy.p'\r\n",
      "'stn_FaceAll_0.1_fold_3_DA=False_test_loss.p'\r\n",
      "'stn_FaceAll_0.1_fold_4_DA=False_test_accuracy.p'\r\n",
      "'stn_FaceAll_0.1_fold_4_DA=False_test_loss.p'\r\n",
      "'stn_FaceAll_0.1_fold_5_DA=False_test_accuracy.p'\r\n",
      "'stn_FaceAll_0.1_fold_5_DA=False_test_loss.p'\r\n",
      "'stn_PhalangesOutlinesCorrect_0.1_fold_0_DA=False_test_accuracy.p'\r\n",
      "'stn_PhalangesOutlinesCorrect_0.1_fold_0_DA=False_test_loss.p'\r\n",
      "'stn_StarLightCurves_0.2_fold_0_DA=False_test_accuracy.p'\r\n",
      "'stn_StarLightCurves_0.2_fold_0_DA=False_test_loss.p'\r\n",
      "'stn_StarLightCurves_0.2_fold_1_DA=False_test_accuracy.p'\r\n",
      "'stn_StarLightCurves_0.2_fold_1_DA=False_test_loss.p'\r\n",
      "'stn_StarLightCurves_0.2_fold_2_DA=False_test_accuracy.p'\r\n",
      "'stn_StarLightCurves_0.2_fold_2_DA=False_test_loss.p'\r\n",
      "'stn_StarLightCurves_0.2_fold_3_DA=False_test_accuracy.p'\r\n",
      "'stn_StarLightCurves_0.2_fold_3_DA=False_test_loss.p'\r\n",
      "'stn_StarLightCurves_0.2_fold_4_DA=False_test_accuracy.p'\r\n",
      "'stn_StarLightCurves_0.2_fold_4_DA=False_test_loss.p'\r\n",
      "'stn_StarLightCurves_0.2_fold_5_DA=False_test_accuracy.p'\r\n",
      "'stn_StarLightCurves_0.2_fold_5_DA=False_test_loss.p'\r\n",
      "'stn_Two_Patterns_0.6_fold_0_DA=False_test_accuracy.p'\r\n",
      "'stn_Two_Patterns_0.6_fold_0_DA=False_test_loss.p'\r\n",
      "'stn_Two_Patterns_0.6_fold_1_DA=False_test_accuracy.p'\r\n",
      "'stn_Two_Patterns_0.6_fold_1_DA=False_test_loss.p'\r\n",
      "'stn_Two_Patterns_0.6_fold_2_DA=False_test_accuracy.p'\r\n",
      "'stn_Two_Patterns_0.6_fold_2_DA=False_test_loss.p'\r\n",
      "'stn_Two_Patterns_0.6_fold_3_DA=False_test_accuracy.p'\r\n",
      "'stn_Two_Patterns_0.6_fold_3_DA=False_test_loss.p'\r\n",
      "'stn_Two_Patterns_0.6_fold_4_DA=False_test_accuracy.p'\r\n",
      "'stn_Two_Patterns_0.6_fold_4_DA=False_test_loss.p'\r\n",
      "'stn_Two_Patterns_0.6_fold_5_DA=False_test_accuracy.p'\r\n",
      "'stn_Two_Patterns_0.6_fold_5_DA=False_test_loss.p'\r\n",
      "'stn_uWaveGestureLibrary_X_0.1_fold_0_DA=False_test_accuracy.p'\r\n",
      "'stn_uWaveGestureLibrary_X_0.1_fold_0_DA=False_test_loss.p'\r\n",
      "'stn_uWaveGestureLibrary_X_0.1_fold_1_DA=False_test_accuracy.p'\r\n",
      "'stn_uWaveGestureLibrary_X_0.1_fold_1_DA=False_test_loss.p'\r\n",
      "'stn_uWaveGestureLibrary_X_0.1_fold_2_DA=False_test_accuracy.p'\r\n",
      "'stn_uWaveGestureLibrary_X_0.1_fold_2_DA=False_test_loss.p'\r\n",
      "'stn_uWaveGestureLibrary_X_0.1_fold_3_DA=False_test_accuracy.p'\r\n",
      "'stn_uWaveGestureLibrary_X_0.1_fold_3_DA=False_test_loss.p'\r\n",
      "'stn_uWaveGestureLibrary_X_0.1_fold_4_DA=False_test_accuracy.p'\r\n",
      "'stn_uWaveGestureLibrary_X_0.1_fold_4_DA=False_test_loss.p'\r\n",
      "'stn_uWaveGestureLibrary_X_0.1_fold_5_DA=False_test_accuracy.p'\r\n",
      "'stn_uWaveGestureLibrary_X_0.1_fold_5_DA=False_test_loss.p'\r\n",
      "'stn_wafer_0.1_fold_0_DA=False_test_accuracy.p'\r\n",
      "'stn_wafer_0.1_fold_0_DA=False_test_loss.p'\r\n",
      "'stn_wafer_0.1_fold_1_DA=False_test_accuracy.p'\r\n",
      "'stn_wafer_0.1_fold_1_DA=False_test_loss.p'\r\n",
      "'stn_wafer_0.1_fold_2_DA=False_test_accuracy.p'\r\n",
      "'stn_wafer_0.1_fold_2_DA=False_test_loss.p'\r\n",
      "'stn_wafer_0.1_fold_3_DA=False_test_accuracy.p'\r\n",
      "'stn_wafer_0.1_fold_3_DA=False_test_loss.p'\r\n",
      "'stn_wafer_0.1_fold_4_DA=False_test_accuracy.p'\r\n",
      "'stn_wafer_0.1_fold_4_DA=False_test_loss.p'\r\n",
      "'stn_wafer_0.1_fold_5_DA=False_test_accuracy.p'\r\n",
      "'stn_wafer_0.1_fold_5_DA=False_test_loss.p'\r\n"
     ]
    }
   ],
   "source": [
    "ls ../pSTN-baselines/experiments/timeseries_results/"
   ]
  },
  {
   "cell_type": "code",
   "execution_count": 13,
   "metadata": {},
   "outputs": [
    {
     "name": "stdout",
     "output_type": "stream",
     "text": [
      "\u001b[0m\u001b[01;34mcheckpoints\u001b[0m/  \u001b[01;34mlightning_logs\u001b[0m/  \u001b[01;34moptions\u001b[0m/   test.py       train.py\r\n",
      "\u001b[01;34mdata\u001b[0m/         \u001b[01;34mloss\u001b[0m/            README.md  \u001b[01;34mtests\u001b[0m/        \u001b[01;34mUQ\u001b[0m/\r\n",
      "\u001b[01;34mexperiments\u001b[0m/  \u001b[01;34mmodels\u001b[0m/          \u001b[01;34mscripts\u001b[0m/   \u001b[01;34mtheta_stats\u001b[0m/  \u001b[01;34mutils\u001b[0m/\r\n"
     ]
    }
   ],
   "source": [
    "ls ../pSTN-baselines/"
   ]
  },
  {
   "cell_type": "markdown",
   "metadata": {},
   "source": [
    "## __CNN__"
   ]
  },
  {
   "cell_type": "code",
   "execution_count": 16,
   "metadata": {},
   "outputs": [
    {
     "name": "stdout",
     "output_type": "stream",
     "text": [
      "not done yet with PhalangesOutlinesCorrect 2\n",
      "not done yet with PhalangesOutlinesCorrect 3\n",
      "not done yet with PhalangesOutlinesCorrect 4\n",
      "not done yet with FordA 0\n",
      "not done yet with FordA 1\n",
      "not done yet with FordA 2\n",
      "not done yet with FordA 3\n",
      "not done yet with FordA 4\n"
     ]
    }
   ],
   "source": [
    "#### CNN\n",
    "CNN_test_losses = defaultdict(list)\n",
    "CNN_accuracy = defaultdict(list)\n",
    "\n",
    "for i, dataset in enumerate(datasets):\n",
    "    for fold in range(5):\n",
    "        try:\n",
    "            CNN_test_losses[dataset].append(pickle.load(open('../pSTN-baselines/experiments/timeseries_results/cnn_%s_%s_fold_%s_DA=False_test_loss.p' %(dataset, priors[i], fold), 'rb')))\n",
    "            CNN_accuracy[dataset].append(pickle.load(open('../pSTN-baselines/experiments/timeseries_results/cnn_%s_%s_fold_%s_DA=False_test_accuracy.p' %(dataset, priors[i], fold), 'rb')))\n",
    "        except:\n",
    "            print('not done yet with', dataset, fold)"
   ]
  },
  {
   "cell_type": "code",
   "execution_count": 17,
   "metadata": {},
   "outputs": [
    {
     "data": {
      "text/html": [
       "<div>\n",
       "<style scoped>\n",
       "    .dataframe tbody tr th:only-of-type {\n",
       "        vertical-align: middle;\n",
       "    }\n",
       "\n",
       "    .dataframe tbody tr th {\n",
       "        vertical-align: top;\n",
       "    }\n",
       "\n",
       "    .dataframe thead th {\n",
       "        text-align: right;\n",
       "    }\n",
       "</style>\n",
       "<table border=\"1\" class=\"dataframe\">\n",
       "  <thead>\n",
       "    <tr style=\"text-align: right;\">\n",
       "      <th></th>\n",
       "      <th>mean</th>\n",
       "      <th>std</th>\n",
       "    </tr>\n",
       "  </thead>\n",
       "  <tbody>\n",
       "    <tr>\n",
       "      <th>FaceAll</th>\n",
       "      <td>0.817381</td>\n",
       "      <td>0.016545</td>\n",
       "    </tr>\n",
       "    <tr>\n",
       "      <th>wafer</th>\n",
       "      <td>0.996364</td>\n",
       "      <td>0.001372</td>\n",
       "    </tr>\n",
       "    <tr>\n",
       "      <th>uWaveGestureLibrary_X</th>\n",
       "      <td>0.745179</td>\n",
       "      <td>0.007684</td>\n",
       "    </tr>\n",
       "    <tr>\n",
       "      <th>Two_Patterns</th>\n",
       "      <td>0.980550</td>\n",
       "      <td>0.004641</td>\n",
       "    </tr>\n",
       "    <tr>\n",
       "      <th>StarLightCurves</th>\n",
       "      <td>0.969261</td>\n",
       "      <td>0.002048</td>\n",
       "    </tr>\n",
       "    <tr>\n",
       "      <th>PhalangesOutlinesCorrect</th>\n",
       "      <td>0.791274</td>\n",
       "      <td>0.009434</td>\n",
       "    </tr>\n",
       "    <tr>\n",
       "      <th>FordA</th>\n",
       "      <td>NaN</td>\n",
       "      <td>NaN</td>\n",
       "    </tr>\n",
       "  </tbody>\n",
       "</table>\n",
       "</div>"
      ],
      "text/plain": [
       "                              mean       std\n",
       "FaceAll                   0.817381  0.016545\n",
       "wafer                     0.996364  0.001372\n",
       "uWaveGestureLibrary_X     0.745179  0.007684\n",
       "Two_Patterns              0.980550  0.004641\n",
       "StarLightCurves           0.969261  0.002048\n",
       "PhalangesOutlinesCorrect  0.791274  0.009434\n",
       "FordA                          NaN       NaN"
      ]
     },
     "execution_count": 17,
     "metadata": {},
     "output_type": "execute_result"
    }
   ],
   "source": [
    "CNN_accs = {dataset: [np.mean(CNN_accuracy[dataset]), np.std(CNN_accuracy[dataset])] for dataset in datasets}\n",
    "CNN_accs_df = pd.DataFrame.from_dict(CNN_accs, orient='index', columns = ['mean', 'std'])\n",
    "CNN_accs_df"
   ]
  },
  {
   "cell_type": "markdown",
   "metadata": {},
   "source": [
    "__STN__"
   ]
  },
  {
   "cell_type": "code",
   "execution_count": 20,
   "metadata": {},
   "outputs": [
    {
     "name": "stdout",
     "output_type": "stream",
     "text": [
      "not done yet with PhalangesOutlinesCorrect 2\n",
      "not done yet with PhalangesOutlinesCorrect 3\n",
      "not done yet with PhalangesOutlinesCorrect 4\n",
      "not done yet with FordA 0\n",
      "not done yet with FordA 1\n",
      "not done yet with FordA 2\n",
      "not done yet with FordA 3\n",
      "not done yet with FordA 4\n"
     ]
    }
   ],
   "source": [
    "#### STN\n",
    "STN_test_losses = defaultdict(list)\n",
    "STN_accuracy = defaultdict(list)\n",
    "\n",
    "for i, dataset in enumerate(datasets):\n",
    "    for fold in range(5):\n",
    "        try:\n",
    "            STN_test_losses[dataset].append(pickle.load(open('../pSTN-baselines/experiments/timeseries_results/stn_%s_%s_fold_%s_DA=False_test_loss.p' %(dataset, priors[i], fold), 'rb')))\n",
    "            STN_accuracy[dataset].append(pickle.load(open('../pSTN-baselines/experiments/timeseries_results/stn_%s_%s_fold_%s_DA=False_test_accuracy.p' %(dataset, priors[i], fold), 'rb')))\n",
    "        except:\n",
    "            print('not done yet with', dataset, fold)"
   ]
  },
  {
   "cell_type": "code",
   "execution_count": 21,
   "metadata": {},
   "outputs": [
    {
     "data": {
      "text/html": [
       "<div>\n",
       "<style scoped>\n",
       "    .dataframe tbody tr th:only-of-type {\n",
       "        vertical-align: middle;\n",
       "    }\n",
       "\n",
       "    .dataframe tbody tr th {\n",
       "        vertical-align: top;\n",
       "    }\n",
       "\n",
       "    .dataframe thead th {\n",
       "        text-align: right;\n",
       "    }\n",
       "</style>\n",
       "<table border=\"1\" class=\"dataframe\">\n",
       "  <thead>\n",
       "    <tr style=\"text-align: right;\">\n",
       "      <th></th>\n",
       "      <th>mean</th>\n",
       "      <th>std</th>\n",
       "    </tr>\n",
       "  </thead>\n",
       "  <tbody>\n",
       "    <tr>\n",
       "      <th>FaceAll</th>\n",
       "      <td>0.789643</td>\n",
       "      <td>0.011783</td>\n",
       "    </tr>\n",
       "    <tr>\n",
       "      <th>wafer</th>\n",
       "      <td>0.991818</td>\n",
       "      <td>0.001243</td>\n",
       "    </tr>\n",
       "    <tr>\n",
       "      <th>uWaveGestureLibrary_X</th>\n",
       "      <td>0.789966</td>\n",
       "      <td>0.005816</td>\n",
       "    </tr>\n",
       "    <tr>\n",
       "      <th>Two_Patterns</th>\n",
       "      <td>0.997950</td>\n",
       "      <td>0.000510</td>\n",
       "    </tr>\n",
       "    <tr>\n",
       "      <th>StarLightCurves</th>\n",
       "      <td>0.962184</td>\n",
       "      <td>0.001451</td>\n",
       "    </tr>\n",
       "    <tr>\n",
       "      <th>PhalangesOutlinesCorrect</th>\n",
       "      <td>0.801297</td>\n",
       "      <td>0.007665</td>\n",
       "    </tr>\n",
       "    <tr>\n",
       "      <th>FordA</th>\n",
       "      <td>NaN</td>\n",
       "      <td>NaN</td>\n",
       "    </tr>\n",
       "  </tbody>\n",
       "</table>\n",
       "</div>"
      ],
      "text/plain": [
       "                              mean       std\n",
       "FaceAll                   0.789643  0.011783\n",
       "wafer                     0.991818  0.001243\n",
       "uWaveGestureLibrary_X     0.789966  0.005816\n",
       "Two_Patterns              0.997950  0.000510\n",
       "StarLightCurves           0.962184  0.001451\n",
       "PhalangesOutlinesCorrect  0.801297  0.007665\n",
       "FordA                          NaN       NaN"
      ]
     },
     "execution_count": 21,
     "metadata": {},
     "output_type": "execute_result"
    }
   ],
   "source": [
    "STN_accs = {dataset: [np.mean(STN_accuracy[dataset]), np.std(STN_accuracy[dataset])] for dataset in datasets}\n",
    "STN_accs_df = pd.DataFrame.from_dict(STN_accs, orient='index', columns = ['mean', 'std'])\n",
    "STN_accs_df"
   ]
  },
  {
   "cell_type": "markdown",
   "metadata": {},
   "source": [
    "__P_STN__"
   ]
  },
  {
   "cell_type": "code",
   "execution_count": 24,
   "metadata": {},
   "outputs": [
    {
     "name": "stdout",
     "output_type": "stream",
     "text": [
      "not done yet with FaceAll 3\n",
      "not done yet with FaceAll 4\n",
      "not done yet with wafer 0\n",
      "not done yet with wafer 1\n",
      "not done yet with wafer 2\n",
      "not done yet with wafer 3\n",
      "not done yet with wafer 4\n",
      "not done yet with uWaveGestureLibrary_X 0\n",
      "not done yet with uWaveGestureLibrary_X 1\n",
      "not done yet with uWaveGestureLibrary_X 2\n",
      "not done yet with uWaveGestureLibrary_X 3\n",
      "not done yet with uWaveGestureLibrary_X 4\n",
      "not done yet with Two_Patterns 0\n",
      "not done yet with Two_Patterns 1\n",
      "not done yet with Two_Patterns 2\n",
      "not done yet with Two_Patterns 3\n",
      "not done yet with Two_Patterns 4\n",
      "not done yet with StarLightCurves 0\n",
      "not done yet with StarLightCurves 1\n",
      "not done yet with StarLightCurves 2\n",
      "not done yet with StarLightCurves 3\n",
      "not done yet with StarLightCurves 4\n",
      "not done yet with PhalangesOutlinesCorrect 0\n",
      "not done yet with PhalangesOutlinesCorrect 1\n",
      "not done yet with PhalangesOutlinesCorrect 2\n",
      "not done yet with PhalangesOutlinesCorrect 3\n",
      "not done yet with PhalangesOutlinesCorrect 4\n",
      "not done yet with FordA 0\n",
      "not done yet with FordA 1\n",
      "not done yet with FordA 2\n",
      "not done yet with FordA 3\n",
      "not done yet with FordA 4\n"
     ]
    }
   ],
   "source": [
    "#### P_STN\n",
    "P_STN_test_losses = defaultdict(list)\n",
    "P_STN_accuracy = defaultdict(list)\n",
    "\n",
    "for i, dataset in enumerate(datasets):\n",
    "    for fold in range(5):\n",
    "        try:\n",
    "            P_STN_test_losses[dataset].append(pickle.load(open('../pSTN-baselines/experiments/timeseries_results/pstn_%s_%s_fold_%s_DA=False_test_loss.p' %(dataset, priors[i], fold), 'rb')))\n",
    "            P_STN_accuracy[dataset].append(pickle.load(open('../pSTN-baselines/experiments/timeseries_results/pstn_%s_%s_fold_%s_DA=False_test_accuracy.p' %(dataset, priors[i], fold), 'rb')))\n",
    "        except:\n",
    "            print('not done yet with', dataset, fold)"
   ]
  },
  {
   "cell_type": "code",
   "execution_count": 25,
   "metadata": {},
   "outputs": [
    {
     "data": {
      "text/html": [
       "<div>\n",
       "<style scoped>\n",
       "    .dataframe tbody tr th:only-of-type {\n",
       "        vertical-align: middle;\n",
       "    }\n",
       "\n",
       "    .dataframe tbody tr th {\n",
       "        vertical-align: top;\n",
       "    }\n",
       "\n",
       "    .dataframe thead th {\n",
       "        text-align: right;\n",
       "    }\n",
       "</style>\n",
       "<table border=\"1\" class=\"dataframe\">\n",
       "  <thead>\n",
       "    <tr style=\"text-align: right;\">\n",
       "      <th></th>\n",
       "      <th>mean</th>\n",
       "      <th>std</th>\n",
       "    </tr>\n",
       "  </thead>\n",
       "  <tbody>\n",
       "    <tr>\n",
       "      <th>FaceAll</th>\n",
       "      <td>0.796429</td>\n",
       "      <td>0.004787</td>\n",
       "    </tr>\n",
       "    <tr>\n",
       "      <th>wafer</th>\n",
       "      <td>NaN</td>\n",
       "      <td>NaN</td>\n",
       "    </tr>\n",
       "    <tr>\n",
       "      <th>uWaveGestureLibrary_X</th>\n",
       "      <td>NaN</td>\n",
       "      <td>NaN</td>\n",
       "    </tr>\n",
       "    <tr>\n",
       "      <th>Two_Patterns</th>\n",
       "      <td>NaN</td>\n",
       "      <td>NaN</td>\n",
       "    </tr>\n",
       "    <tr>\n",
       "      <th>StarLightCurves</th>\n",
       "      <td>NaN</td>\n",
       "      <td>NaN</td>\n",
       "    </tr>\n",
       "    <tr>\n",
       "      <th>PhalangesOutlinesCorrect</th>\n",
       "      <td>NaN</td>\n",
       "      <td>NaN</td>\n",
       "    </tr>\n",
       "    <tr>\n",
       "      <th>FordA</th>\n",
       "      <td>NaN</td>\n",
       "      <td>NaN</td>\n",
       "    </tr>\n",
       "  </tbody>\n",
       "</table>\n",
       "</div>"
      ],
      "text/plain": [
       "                              mean       std\n",
       "FaceAll                   0.796429  0.004787\n",
       "wafer                          NaN       NaN\n",
       "uWaveGestureLibrary_X          NaN       NaN\n",
       "Two_Patterns                   NaN       NaN\n",
       "StarLightCurves                NaN       NaN\n",
       "PhalangesOutlinesCorrect       NaN       NaN\n",
       "FordA                          NaN       NaN"
      ]
     },
     "execution_count": 25,
     "metadata": {},
     "output_type": "execute_result"
    }
   ],
   "source": [
    "P_STN_accs = {dataset: [np.mean(P_STN_accuracy[dataset]), np.std(P_STN_accuracy[dataset])] for dataset in datasets}\n",
    "P_STN_accs_df = pd.DataFrame.from_dict(P_STN_accs, orient='index', columns = ['mean', 'std'])\n",
    "P_STN_accs_df"
   ]
  },
  {
   "cell_type": "code",
   "execution_count": null,
   "metadata": {},
   "outputs": [],
   "source": []
  }
 ],
 "metadata": {
  "kernelspec": {
   "display_name": "Python 3",
   "language": "python",
   "name": "python3"
  },
  "language_info": {
   "codemirror_mode": {
    "name": "ipython",
    "version": 3
   },
   "file_extension": ".py",
   "mimetype": "text/x-python",
   "name": "python",
   "nbconvert_exporter": "python",
   "pygments_lexer": "ipython3",
   "version": "3.6.9"
  }
 },
 "nbformat": 4,
 "nbformat_minor": 2
}
